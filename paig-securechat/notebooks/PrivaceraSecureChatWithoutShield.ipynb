{
  "nbformat": 4,
  "nbformat_minor": 0,
  "metadata": {
    "colab": {
      "provenance": [],
      "collapsed_sections": [
        "HblpCLwAOTGA",
        "vyhIGZYlQrRJ"
      ]
    },
    "kernelspec": {
      "name": "python3",
      "display_name": "Python 3"
    },
    "language_info": {
      "name": "python"
    }
  },
  "cells": [
    {
      "cell_type": "markdown",
      "metadata": {
        "id": "vM6Yo7miVSEJ"
      },
      "source": [
        "<center>\n",
        "    <p style=\"text-align:center\">\n",
        "        <img width=\"500\" height=\"120\" src=\"https://privacera.com/wp-content/uploads/2022/11/logo.png\" alt=\"Privacera\" class=\"site-logo__image entered lazyloaded\" data-lazy-src=\"https://privacera.com/wp-content/uploads/2022/11/logo.png\" data-ll-status=\"loaded\">\n",
        "        <br>\n",
        "        <a href=\"https://privacera.com/\">Vist Us</a>\n",
        "        |\n",
        "        <a href=\"https://privacera.com/docs/?lang=en\">Docs</a>\n",
        "    </p>\n",
        "</center>\n",
        "<div width=\"100%\"> <h1 style=\"text-align:center;align-self: center\">Privacera SecureChat</h1> </div>\n",
        "\n",
        "Secure Chat is a conversational AI chat bot .\n",
        "Secure chat allows users to create  conversations with an AI chat bot which can optionally  be governed by Privacera AI Governance Services(PAIG).\n",
        "Secure chat SDK/Library provides an easy to use, plugable platform which will allow developers/users to have open source chat bot SDK.\n",
        "\n",
        "\n",
        "To run this notebook you will need the following,\n",
        "\n",
        "\n",
        "1. Your OpenAI API Key.\n",
        "\n"
      ]
    },
    {
      "cell_type": "markdown",
      "metadata": {
        "id": "HcshY-SCF87R"
      },
      "source": [
        "## 1. Install Dependencies and Import Libraries\n",
        "\n",
        "Install Privacera SecureChat"
      ]
    },
    {
      "cell_type": "code",
      "execution_count": null,
      "metadata": {
        "id": "SOzmjlrfF87R"
      },
      "outputs": [],
      "source": [
        "!pip install -q privacera_securechat --no-warn-conflicts"
      ]
    },
    {
      "cell_type": "markdown",
      "metadata": {
        "id": "HblpCLwAOTGA"
      },
      "source": [
        "## 2. Configure OpenAI API Key\n",
        "\n",
        "Setup your OpenAI key as an environment variable."
      ]
    },
    {
      "cell_type": "code",
      "execution_count": null,
      "metadata": {
        "id": "zcoKMzwSlO8M"
      },
      "outputs": [],
      "source": [
        "from getpass import getpass\n",
        "import os\n",
        "os.environ[\"OPENAI_API_KEY\"] = getpass(\"🔑 Enter your OpenAI API key: \")"
      ]
    },
    {
      "cell_type": "markdown",
      "metadata": {
        "id": "Fkc2B_pQPLCT"
      },
      "source": [
        "## 3. Launch Privacera SecureChat\n",
        "\n",
        "> Add blockquote\n",
        "\n",
        "\n",
        "\n",
        "Your SecureChat will be started in background with minimal setup. You can setup PAIG Shield key to have a look into AI goverance using Privacera. You can stop the app by running\n",
        "\n",
        "```\n",
        "launcher.close_app()\n",
        "```\n",
        "\n",
        "\n",
        "\n",
        "\n",
        "\n"
      ]
    },
    {
      "cell_type": "code",
      "execution_count": null,
      "metadata": {
        "id": "J2GQ8Z-DPLCT"
      },
      "outputs": [],
      "source": [
        "from privacera_securechat import launcher\n",
        "session = launcher.launch_app(disable_paig_shield_plugin=True)"
      ]
    },
    {
      "cell_type": "markdown",
      "metadata": {
        "id": "vyhIGZYlQrRJ"
      },
      "source": [
        "## 4. Explore Privacera SecureChat Web UI\n",
        "\n",
        "You will be served with the embedded Web-UI of Pirvacera SecureChat. In Colab mode,  you will be assigned with a dedicated default login user."
      ]
    },
    {
      "cell_type": "code",
      "execution_count": null,
      "metadata": {
        "id": "1Sq_DSpUQrRK"
      },
      "outputs": [],
      "source": [
        "launcher.active_session().view(height=800)"
      ]
    }
  ]
}